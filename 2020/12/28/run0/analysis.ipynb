{
 "cells": [
  {
   "cell_type": "code",
   "execution_count": 1,
   "metadata": {},
   "outputs": [],
   "source": [
    "import numpy as np\n",
    "from pathlib import Path\n",
    "import matplotlib.pyplot as plt\n",
    "from e6dataflow.datamodel import load_datamodel\n",
    "from e6dataflow.tools.fittools import e6_fit"
   ]
  },
  {
   "cell_type": "code",
   "execution_count": 2,
   "metadata": {},
   "outputs": [
    {
     "name": "stdout",
     "output_type": "stream",
     "text": [
      "Loading datamodel from C:\\Users\\Emma\\Downloads\\analysis\\analysis\\2020\\12\\28\\run0\\run0-datamodel_small.p\n"
     ]
    }
   ],
   "source": [
    "run_name = 'run0'\n",
    "\n",
    "datamodel = load_datamodel(datamodel_path=Path.cwd(), run_name=run_name, datamodel_name='datamodel_small')"
   ]
  },
  {
   "cell_type": "code",
   "execution_count": 4,
   "metadata": {
    "scrolled": true
   },
   "outputs": [
    {
     "name": "stdout",
     "output_type": "stream",
     "text": [
      "Saving datamodel to C:\\Users\\Emma\\Downloads\\analysis\\analysis\\2020\\12\\28\\run0\\test\\run0-datamodel.p\n"
     ]
    }
   ],
   "source": [
    "datamodel.save_datamodel(datamodel_path=Path('C:\\\\Users\\\\Emma\\\\Downloads\\\\analysis\\\\analysis\\\\2020\\\\12\\\\28\\\\run0\\\\test'))"
   ]
  },
  {
   "cell_type": "code",
   "execution_count": 6,
   "metadata": {},
   "outputs": [
    {
     "name": "stdout",
     "output_type": "stream",
     "text": [
      "6 points\n",
      "17 frames\n",
      "0 shots\n"
     ]
    }
   ],
   "source": [
    "cav_odt_int_list = [1,2,3,4,5,6]\n",
    "pzt_para_list = [5]\n",
    "num_points = datamodel.num_points #len(pzt_para_list) * len(cav_odt_int_list)\n",
    "\n",
    "tweezer_freq_list = [107,108,109,110,111,112,113,114,115,116]\n",
    "num_tweezers = 10 #len(tweezer_freq_list)\n",
    "\n",
    "mol_freq_list = [4, 4, 4.5, 5, 5.5, 6, 6.25, 6.5, 6.75, 7, 7.2, 7.4, 7.6, 7.8, 8]\n",
    "num_frames = 17 #len(mol_freq_list) + 2\n",
    "\n",
    "num_shots = datamodel.num_shots\n",
    "\n",
    "print(num_points,'points')\n",
    "print(num_frames,'frames')\n",
    "print(num_shots,'shots')\n",
    "\n",
    "t_exposure = 500"
   ]
  },
  {
   "cell_type": "code",
   "execution_count": null,
   "metadata": {},
   "outputs": [],
   "source": [
    "survival_probability_array = np.zeros([num_points, num_frames, num_tweezers])\n",
    "for point_num in range(num_points):\n",
    "    for frame_num in range(num_frames):\n",
    "        frame_key = f'frame-{frame_num:02d}'\n",
    "        for tweezer_num in range(num_tweezers):\n",
    "            tweezer_key = f'tweezer-{tweezer_num:02d}'\n",
    "            datafield_name = f'{frame_key}_{tweezer_key}_counts'\n",
    "            verified_list = datamodel.get_data_by_point(datafield_name, point_num)\n",
    "            num_above = np.sum(np.array(verified_list))\n",
    "            num_total = len(verified_list)\n",
    "            frac_above = num_above / num_total\n",
    "            survival_probability_array[point_num, frame_num, tweezer_num] = frac_above"
   ]
  },
  {
   "cell_type": "code",
   "execution_count": null,
   "metadata": {},
   "outputs": [],
   "source": [
    "counts_array_all = np.empty([num_shots, num_frames, num_tweezers])\n",
    "for shot_num in range(num_shots): \n",
    "    for frame_num in range(num_frames):\n",
    "        tweezer_num = 0\n",
    "        for tweezer_freq in tweezer_freq_list: \n",
    "#             counts_array_all[shot_num,frame_num,tweezer_num] = \\\n",
    "#                 datamodel.data_dict['shot_data'][f'frame-{frame_num:02d}_tweezer-{tweezer_num:02d}_counts'][f'shot_{shot_num:05d}']\n",
    "            counts_array_all[shot_num,frame_num,tweezer_num] = \\\n",
    "                datamodel.get_data(f'frame-{frame_num:02d}_tweezer-{tweezer_num:02d}_counts',shot_num)\n",
    "            # two diff ways to get counts for each shot. get_data method seems better. \n",
    "            tweezer_num += 1"
   ]
  },
  {
   "cell_type": "markdown",
   "metadata": {},
   "source": [
    "Below, another way to get counts, without needing to write a loop for every shot. "
   ]
  },
  {
   "cell_type": "code",
   "execution_count": null,
   "metadata": {},
   "outputs": [],
   "source": [
    "counts_array_all_2 = np.empty([num_shots, num_frames, num_tweezers])\n",
    "for frame_num in range(num_frames):\n",
    "    tweezer_num=0\n",
    "    for tweezer_freq in tweezer_freq_list:\n",
    "        counts_array_all_2[:,frame_num,tweezer_num]=\\\n",
    "            datamodel.get_data(f'frame-{frame_num:02d}_tweezer-{tweezer_num:02d}_counts','all')\n",
    "        tweezer_num+=1"
   ]
  },
  {
   "cell_type": "markdown",
   "metadata": {},
   "source": [
    "Is there a way to do get_data and pull many shots at once? \n",
    "\n",
    "$\\rightarrow$ get_data_by_point does this (but by point, as indicated by the name)\n",
    "\n",
    "Implemented get_data method (changed Justin's get_data to get_datum) "
   ]
  },
  {
   "cell_type": "markdown",
   "metadata": {},
   "source": [
    "What do we want to do with the data??? \n",
    " - Look at the counts for each point, frame, and tweezer? \n",
    " - Check the ROIs? \n",
    " \n",
    " ^ or are those things we want the reporters to generate? \n",
    " \n",
    " Get_data:\n",
    " - get a certain set of shots (and return an array?) "
   ]
  },
  {
   "cell_type": "code",
   "execution_count": 7,
   "metadata": {},
   "outputs": [
    {
     "data": {
      "image/png": "[encoded data removed]",
      "text/plain": [
       "<Figure size 432x288 with 1 Axes>"
      ]
     },
     "metadata": {
      "needs_background": "light"
     },
     "output_type": "display_data"
    }
   ],
   "source": [
    "plt.figure('test')\n",
    "for frame_num in range(1):\n",
    "    for tweezer_num in range(num_tweezers):\n",
    "        plt.plot(datamodel.get_data_by_point(f'frame-{frame_num:02d}_tweezer-{tweezer_num:02d}_counts',0),'.')\n",
    "# plt.plot(counts_array_all[:,0,1],'.')\n",
    "# plt.plot(counts_array_all[:,0,2],'.')"
   ]
  },
  {
   "cell_type": "code",
   "execution_count": null,
   "metadata": {},
   "outputs": [],
   "source": [
    "datamodel.datamodel_file_path"
   ]
  },
  {
   "cell_type": "code",
   "execution_count": null,
   "metadata": {},
   "outputs": [],
   "source": [
    "datamodel.last_handled_shot"
   ]
  },
  {
   "cell_type": "code",
   "execution_count": null,
   "metadata": {},
   "outputs": [],
   "source": [
    "Path(Path.cwd(), 'test.p')"
   ]
  },
  {
   "cell_type": "code",
   "execution_count": null,
   "metadata": {
    "scrolled": false
   },
   "outputs": [],
   "source": [
    "datamodel.run()"
   ]
  },
  {
   "cell_type": "code",
   "execution_count": null,
   "metadata": {},
   "outputs": [],
   "source": [
    "len(datamodel.get_data_by_point('frame-00_tweezer-02_counts',1))"
   ]
  },
  {
   "cell_type": "code",
   "execution_count": null,
   "metadata": {},
   "outputs": [],
   "source": [
    "Path.cwd()"
   ]
  },
  {
   "cell_type": "code",
   "execution_count": null,
   "metadata": {},
   "outputs": [],
   "source": [
    "frames_array = np.zeros([len(cav_odt_int_list), len(pzt_para_list), num_frames, 350,50])\n",
    "for shot_num in range(num_shots):\n",
    "    if quiet == False: \n",
    "        print(f'shot_num={shot_num}')\n",
    "    file_name = file_prefix+'_'+str(shot_num).zfill(5)+'.h5'\n",
    "    hf = h5py.File(data_path/file_name, 'r')\n",
    "    point = shot_num % num_points\n",
    "    cav_odt_int_counter = point // len(pzt_para_list)\n",
    "    cav_odt_int = cav_odt_int_list[cav_odt_int_counter]\n",
    "    pzt_para_counter = point % len(pzt_para_list)\n",
    "    pzt_para = pzt_para_list[pzt_para_counter]\n",
    "    for frame_num in range(num_frames):\n",
    "        photo = np.array(hf.get('frame-'+str(frame_num).zfill(2)))\n",
    "        frames_array[cav_odt_int_counter, pzt_para_counter, frame_num] += photo\n",
    "        \n",
    "        if quiet == False: \n",
    "            if frame_num == 5:\n",
    "                vmin = 105\n",
    "                vmax = 140\n",
    "\n",
    "                fig,ax = plt.subplots(1, 1,figsize=(10, 10) )\n",
    "                ax.imshow(photo, norm = colors.Normalize(vmin=vmin,vmax=vmax), cmap='hot', interpolation='nearest')\n",
    "                for tweezer_freq in tweezer_freq_list:\n",
    "                    rect1 = patches.Rectangle((round(roi_center(tweezer_freq, 0,  pzt_para)[0] - roi_width/2),round(roi_center(tweezer_freq, 0,  pzt_para)[1] - roi_height/2)), roi_width,roi_height,linewidth=1,edgecolor='white',facecolor='none')\n",
    "                    ax.add_patch(rect1)\n",
    "                plt.show()\n",
    "                print(counts_array_all[shot_num, frame_num])\n",
    "            \n",
    "    hf.close\n",
    "frames_array= frames_array/num_shots*num_points"
   ]
  }
 ],
 "metadata": {
  "kernelspec": {
   "display_name": "Python 3",
   "language": "python",
   "name": "python3"
  },
  "language_info": {
   "codemirror_mode": {
    "name": "ipython",
    "version": 3
   },
   "file_extension": ".py",
   "mimetype": "text/x-python",
   "name": "python",
   "nbconvert_exporter": "python",
   "pygments_lexer": "ipython3",
   "version": "3.7.6"
  }
 },
 "nbformat": 4,
 "nbformat_minor": 4
}
