{
 "cells": [
  {
   "cell_type": "code",
   "execution_count": 1,
   "metadata": {},
   "outputs": [],
   "source": [
    "import numpy as np\n",
    "from pathlib import Path\n",
    "import matplotlib.pyplot as plt\n",
    "from e6dataflow.datamodel import load_datamodel\n",
    "from e6dataflow.tools.fittools import e6_fit"
   ]
  },
  {
   "cell_type": "code",
   "execution_count": 12,
   "metadata": {},
   "outputs": [
    {
     "name": "stdout",
     "output_type": "stream",
     "text": [
      "c:\\python37-32\\lib\\site-packages\\e6dataflow\\__init__.py\n"
     ]
    }
   ],
   "source": [
    "import e6dataflow\n",
    "print(e6dataflow.__file__)"
   ]
  },
  {
   "cell_type": "code",
   "execution_count": 2,
   "metadata": {},
   "outputs": [
    {
     "name": "stdout",
     "output_type": "stream",
     "text": [
      "Loading datamodel from Y:\\expdata-e6\\data\\2021\\01\\20\\analysis\\run0\\run0-datamodel.p\n"
     ]
    }
   ],
   "source": [
    "data_root = Path('Y:/', 'expdata-e6/data')\n",
    "daily_subpath = Path(*Path.cwd().parent.parts[-3:])\n",
    "daily_path = Path(data_root, daily_subpath)\n",
    "\n",
    "run_name = 'run0'\n",
    "\n",
    "datamodel = load_datamodel(daily_path=daily_path, run_name=run_name)\n"
   ]
  },
  {
   "cell_type": "code",
   "execution_count": 3,
   "metadata": {},
   "outputs": [],
   "source": [
    "num_points = datamodel.num_points\n",
    "num_frames = 3\n",
    "num_tweezers = 10\n",
    "survival_probability_array = np.zeros([num_points, num_frames, num_tweezers])\n",
    "for point_num in range(num_points):\n",
    "    for frame_num in range(num_frames):\n",
    "        frame_key = f'frame-{frame_num:02d}'\n",
    "        for tweezer_num in range(num_tweezers):\n",
    "            tweezer_key = f'tweezer-{tweezer_num:02d}'\n",
    "            datafield_name = f'{frame_key}_{tweezer_key}_counts_verifier'\n",
    "            verified_list = datamodel.get_data_by_point(datafield_name, point_num)\n",
    "            num_above = np.sum(np.array(verified_list))\n",
    "            num_total = len(verified_list)\n",
    "            frac_above = num_above / num_total\n",
    "            survival_probability_array[point_num, frame_num, tweezer_num] = frac_above"
   ]
  },
  {
   "cell_type": "code",
   "execution_count": 4,
   "metadata": {},
   "outputs": [],
   "source": [
    "init_prob = np.mean(survival_probability_array[:, 0, :])\n",
    "survival_probability_list = [init_prob]\n",
    "for point_num in range(num_points):\n",
    "    new_prob = np.mean(survival_probability_array[point_num, 1, :])\n",
    "    survival_probability_list.append(new_prob)\n",
    "\n",
    "lifetime_data = np.array(survival_probability_list) / init_prob\n",
    "t_data = np.array([0, 5, 20, 30, 40, 60])"
   ]
  },
  {
   "cell_type": "code",
   "execution_count": 5,
   "metadata": {},
   "outputs": [],
   "source": [
    "def exp_func(t, tau, amplitude):\n",
    "    return amplitude * np.exp(- t / tau)\n",
    "\n",
    "fit_struct = e6_fit(input_data=t_data, output_data=lifetime_data, fit_func=exp_func, param_guess=[20, 0.5],\n",
    "                   param_keys=['tau', 'amplitude'])\n",
    "\n",
    "t_plot_list = np.linspace(0, 65, 100)\n",
    "lifetime_model = exp_func(t_plot_list, **fit_struct['kwargs'])"
   ]
  },
  {
   "cell_type": "code",
   "execution_count": 6,
   "metadata": {},
   "outputs": [
    {
     "data": {
      "image/png": "[encoded data removed]",
      "text/plain": [
       "<Figure size 432x432 with 1 Axes>"
      ]
     },
     "metadata": {
      "needs_background": "light"
     },
     "output_type": "display_data"
    }
   ],
   "source": [
    "tau = fit_struct['tau']['val']\n",
    "fig = plt.figure(figsize=(6, 6))\n",
    "ax  = fig.add_subplot(1, 1, 1)\n",
    "ax.plot(t_data, lifetime_data, '.', markersize=10)\n",
    "ax.plot(t_plot_list, lifetime_model, markersize=10, label=f'$\\\\tau$={tau:.01f} us')\n",
    "ax.grid(True)\n",
    "ax.legend()\n",
    "ax.set_ylim(0, 1.05)\n",
    "ax.set_xlabel('release time (us)')\n",
    "ax.set_ylabel('recapture probability')\n",
    "plt.show()\n"
   ]
  },
  {
   "cell_type": "code",
   "execution_count": 7,
   "metadata": {},
   "outputs": [],
   "source": [
    "save_path = Path.cwd()"
   ]
  },
  {
   "cell_type": "code",
   "execution_count": 8,
   "metadata": {},
   "outputs": [
    {
     "data": {
      "text/plain": [
       "273"
      ]
     },
     "execution_count": 8,
     "metadata": {},
     "output_type": "execute_result"
    }
   ],
   "source": [
    "datamodel.last_handled_shot"
   ]
  },
  {
   "cell_type": "code",
   "execution_count": null,
   "metadata": {},
   "outputs": [],
   "source": []
  },
  {
   "cell_type": "code",
   "execution_count": null,
   "metadata": {},
   "outputs": [],
   "source": []
  },
  {
   "cell_type": "code",
   "execution_count": null,
   "metadata": {},
   "outputs": [],
   "source": []
  }
 ],
 "metadata": {
  "kernelspec": {
   "display_name": "Python 3",
   "language": "python",
   "name": "python3"
  },
  "language_info": {
   "codemirror_mode": {
    "name": "ipython",
    "version": 3
   },
   "file_extension": ".py",
   "mimetype": "text/x-python",
   "name": "python",
   "nbconvert_exporter": "python",
   "pygments_lexer": "ipython3",
   "version": "3.7.2"
  }
 },
 "nbformat": 4,
 "nbformat_minor": 2
}
