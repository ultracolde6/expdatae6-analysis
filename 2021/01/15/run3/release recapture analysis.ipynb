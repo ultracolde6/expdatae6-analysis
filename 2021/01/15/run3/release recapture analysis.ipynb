{
 "cells": [
  {
   "cell_type": "code",
   "execution_count": 1,
   "metadata": {},
   "outputs": [],
   "source": [
    "import numpy as np\n",
    "from pathlib import Path\n",
    "import matplotlib.pyplot as plt\n",
    "from e6dataflow.datamodel import load_datamodel\n",
    "from e6dataflow.tools.fittools import e6_fit"
   ]
  },
  {
   "cell_type": "code",
   "execution_count": 10,
   "metadata": {},
   "outputs": [
    {
     "data": {
      "text/plain": [
       "WindowsPath('Y:/expdata-e6/analysis/2021/01/15/run3')"
      ]
     },
     "execution_count": 10,
     "metadata": {},
     "output_type": "execute_result"
    }
   ],
   "source": [
    "Path.cwd()"
   ]
  },
  {
   "cell_type": "code",
   "execution_count": 2,
   "metadata": {},
   "outputs": [
    {
     "name": "stdout",
     "output_type": "stream",
     "text": [
      "Loading datamodel from Y:\\expdata-e6\\data\\2021\\01\\15\\analysis\\run3\\run3-datamodel.p\n"
     ]
    }
   ],
   "source": [
    "data_root = Path('Y:/', 'expdata-e6/data')\n",
    "daily_subpath = Path(*Path.cwd().parent.parts[-3:])\n",
    "daily_path = Path(data_root, daily_subpath)\n",
    "\n",
    "run_name = 'run3'\n",
    "\n",
    "datamodel = load_datamodel(daily_path=daily_path, run_name=run_name)\n"
   ]
  },
  {
   "cell_type": "code",
   "execution_count": 3,
   "metadata": {
    "scrolled": true
   },
   "outputs": [
    {
     "name": "stdout",
     "output_type": "stream",
     "text": [
      "datastream: high NA Imaging\n",
      "shot_datafield: frame-00\n",
      "point_datafield: frame-00_avg\n",
      "shot_datafield: frame-00_tweezer-00_counts\n",
      "shot_datafield: frame-00_tweezer-00_counts_verifier\n",
      "shot_datafield: frame-00_tweezer-01_counts\n",
      "shot_datafield: frame-00_tweezer-01_counts_verifier\n",
      "shot_datafield: frame-00_tweezer-02_counts\n",
      "shot_datafield: frame-00_tweezer-02_counts_verifier\n",
      "shot_datafield: frame-00_tweezer-03_counts\n",
      "shot_datafield: frame-00_tweezer-03_counts_verifier\n",
      "shot_datafield: frame-00_tweezer-04_counts\n",
      "shot_datafield: frame-00_tweezer-04_counts_verifier\n",
      "shot_datafield: frame-00_tweezer-05_counts\n",
      "shot_datafield: frame-00_tweezer-05_counts_verifier\n",
      "shot_datafield: frame-00_tweezer-06_counts\n",
      "shot_datafield: frame-00_tweezer-06_counts_verifier\n",
      "shot_datafield: frame-00_tweezer-07_counts\n",
      "shot_datafield: frame-00_tweezer-07_counts_verifier\n",
      "shot_datafield: frame-00_tweezer-08_counts\n",
      "shot_datafield: frame-00_tweezer-08_counts_verifier\n",
      "shot_datafield: frame-00_tweezer-09_counts\n",
      "shot_datafield: frame-00_tweezer-09_counts_verifier\n",
      "shot_datafield: frame-01\n",
      "point_datafield: frame-01_avg\n",
      "shot_datafield: frame-01_tweezer-00_counts\n",
      "shot_datafield: frame-01_tweezer-00_counts_verifier\n",
      "shot_datafield: frame-01_tweezer-01_counts\n",
      "shot_datafield: frame-01_tweezer-01_counts_verifier\n",
      "shot_datafield: frame-01_tweezer-02_counts\n",
      "shot_datafield: frame-01_tweezer-02_counts_verifier\n",
      "shot_datafield: frame-01_tweezer-03_counts\n",
      "shot_datafield: frame-01_tweezer-03_counts_verifier\n",
      "shot_datafield: frame-01_tweezer-04_counts\n",
      "shot_datafield: frame-01_tweezer-04_counts_verifier\n",
      "shot_datafield: frame-01_tweezer-05_counts\n",
      "shot_datafield: frame-01_tweezer-05_counts_verifier\n",
      "shot_datafield: frame-01_tweezer-06_counts\n",
      "shot_datafield: frame-01_tweezer-06_counts_verifier\n",
      "shot_datafield: frame-01_tweezer-07_counts\n",
      "shot_datafield: frame-01_tweezer-07_counts_verifier\n",
      "shot_datafield: frame-01_tweezer-08_counts\n",
      "shot_datafield: frame-01_tweezer-08_counts_verifier\n",
      "shot_datafield: frame-01_tweezer-09_counts\n",
      "shot_datafield: frame-01_tweezer-09_counts_verifier\n",
      "shot_datafield: frame-02\n",
      "point_datafield: frame-02_avg\n",
      "shot_datafield: frame-02_tweezer-00_counts\n",
      "shot_datafield: frame-02_tweezer-00_counts_verifier\n",
      "shot_datafield: frame-02_tweezer-01_counts\n",
      "shot_datafield: frame-02_tweezer-01_counts_verifier\n",
      "shot_datafield: frame-02_tweezer-02_counts\n",
      "shot_datafield: frame-02_tweezer-02_counts_verifier\n",
      "shot_datafield: frame-02_tweezer-03_counts\n",
      "shot_datafield: frame-02_tweezer-03_counts_verifier\n",
      "shot_datafield: frame-02_tweezer-04_counts\n",
      "shot_datafield: frame-02_tweezer-04_counts_verifier\n",
      "shot_datafield: frame-02_tweezer-05_counts\n",
      "shot_datafield: frame-02_tweezer-05_counts_verifier\n",
      "shot_datafield: frame-02_tweezer-06_counts\n",
      "shot_datafield: frame-02_tweezer-06_counts_verifier\n",
      "shot_datafield: frame-02_tweezer-07_counts\n",
      "shot_datafield: frame-02_tweezer-07_counts_verifier\n",
      "shot_datafield: frame-02_tweezer-08_counts\n",
      "shot_datafield: frame-02_tweezer-08_counts_verifier\n",
      "shot_datafield: frame-02_tweezer-09_counts\n",
      "shot_datafield: frame-02_tweezer-09_counts_verifier\n",
      "processor: frame-00_multicount_processor\n",
      "processor: frame-00_tweezer-00_threshold_processor\n",
      "processor: frame-00_tweezer-01_threshold_processor\n",
      "processor: frame-00_tweezer-02_threshold_processor\n",
      "processor: frame-00_tweezer-03_threshold_processor\n",
      "processor: frame-00_tweezer-04_threshold_processor\n",
      "processor: frame-00_tweezer-05_threshold_processor\n",
      "processor: frame-00_tweezer-06_threshold_processor\n",
      "processor: frame-00_tweezer-07_threshold_processor\n",
      "processor: frame-00_tweezer-08_threshold_processor\n",
      "processor: frame-00_tweezer-09_threshold_processor\n",
      "processor: frame-01_multicount_processor\n",
      "processor: frame-01_tweezer-00_threshold_processor\n",
      "processor: frame-01_tweezer-01_threshold_processor\n",
      "processor: frame-01_tweezer-02_threshold_processor\n",
      "processor: frame-01_tweezer-03_threshold_processor\n",
      "processor: frame-01_tweezer-04_threshold_processor\n",
      "processor: frame-01_tweezer-05_threshold_processor\n",
      "processor: frame-01_tweezer-06_threshold_processor\n",
      "processor: frame-01_tweezer-07_threshold_processor\n",
      "processor: frame-01_tweezer-08_threshold_processor\n",
      "processor: frame-01_tweezer-09_threshold_processor\n",
      "processor: frame-02_multicount_processor\n",
      "processor: frame-02_tweezer-00_threshold_processor\n",
      "processor: frame-02_tweezer-01_threshold_processor\n",
      "processor: frame-02_tweezer-02_threshold_processor\n",
      "processor: frame-02_tweezer-03_threshold_processor\n",
      "processor: frame-02_tweezer-04_threshold_processor\n",
      "processor: frame-02_tweezer-05_threshold_processor\n",
      "processor: frame-02_tweezer-06_threshold_processor\n",
      "processor: frame-02_tweezer-07_threshold_processor\n",
      "processor: frame-02_tweezer-08_threshold_processor\n",
      "processor: frame-02_tweezer-09_threshold_processor\n",
      "aggregator: frame-00_avg_aggregator\n",
      "aggregator: frame-01_avg_aggregator\n",
      "aggregator: frame-02_avg_aggregator\n",
      "point_reporter: frame-00_counts_reporter\n",
      "point_reporter: frame-01_counts_reporter\n",
      "point_reporter: frame-02_counts_reporter\n",
      "point_reporter: avg_frame_reporter\n"
     ]
    }
   ],
   "source": [
    "for datatool in datamodel.datatool_dict.values():\n",
    "    print(f'{datatool.datatool_type}: {datatool.name}')"
   ]
  },
  {
   "cell_type": "code",
   "execution_count": 4,
   "metadata": {},
   "outputs": [],
   "source": [
    "num_points = datamodel.num_points\n",
    "num_frames = 3\n",
    "num_tweezers = 10\n",
    "survival_probability_array = np.zeros([num_points, num_frames, num_tweezers])\n",
    "for point_num in range(num_points):\n",
    "    for frame_num in range(num_frames):\n",
    "        frame_key = f'frame-{frame_num:02d}'\n",
    "        for tweezer_num in range(num_tweezers):\n",
    "            tweezer_key = f'tweezer-{tweezer_num:02d}'\n",
    "            datafield_name = f'{frame_key}_{tweezer_key}_counts_verifier'\n",
    "            verified_list = datamodel.get_data_by_point(datafield_name, point_num)\n",
    "            num_above = np.sum(np.array(verified_list))\n",
    "            num_total = len(verified_list)\n",
    "            frac_above = num_above / num_total\n",
    "            survival_probability_array[point_num, frame_num, tweezer_num] = frac_above"
   ]
  },
  {
   "cell_type": "code",
   "execution_count": 5,
   "metadata": {},
   "outputs": [],
   "source": [
    "init_prob = np.mean(survival_probability_array[:, 0, :])\n",
    "hold_20_prob = np.mean(survival_probability_array[0, 1, :])\n",
    "hold_40_prob = np.mean(survival_probability_array[1, 1, :])\n",
    "\n",
    "lifetime_data = np.array([init_prob, hold_20_prob, hold_40_prob]) / init_prob\n",
    "t_data = np.array([0, 20, 40])"
   ]
  },
  {
   "cell_type": "code",
   "execution_count": 6,
   "metadata": {},
   "outputs": [],
   "source": [
    "def exp_func(t, tau, amplitude):\n",
    "    return amplitude * np.exp(- t / tau)\n",
    "\n",
    "fit_struct = e6_fit(input_data=t_data, output_data=lifetime_data, fit_func=exp_func, param_guess=[20, 0.5],\n",
    "                   param_keys=['tau', 'amplitude'])\n",
    "\n",
    "t_plot_list = np.linspace(0, 45, 100)\n",
    "lifetime_model = exp_func(t_plot_list, **fit_struct['kwargs'])"
   ]
  },
  {
   "cell_type": "code",
   "execution_count": 7,
   "metadata": {},
   "outputs": [
    {
     "data": {
      "image/png": "[encoded data removed]",
      "text/plain": [
       "<Figure size 432x432 with 1 Axes>"
      ]
     },
     "metadata": {
      "needs_background": "light"
     },
     "output_type": "display_data"
    }
   ],
   "source": [
    "tau = fit_struct['tau']['val']\n",
    "fig = plt.figure(figsize=(6, 6))\n",
    "ax  = fig.add_subplot(1, 1, 1)\n",
    "ax.plot(t_data, lifetime_data, '.', markersize=10)\n",
    "ax.plot(t_plot_list, lifetime_model, markersize=10, label=f'$\\\\tau$={tau:.01f} us')\n",
    "ax.grid(True)\n",
    "ax.legend()\n",
    "ax.set_ylim(0, 1.05)\n",
    "ax.set_xlabel('release time (us)')\n",
    "ax.set_ylabel('recapture probability')\n",
    "plt.show()\n"
   ]
  },
  {
   "cell_type": "code",
   "execution_count": 8,
   "metadata": {},
   "outputs": [],
   "source": [
    "save_path = Path.cwd()"
   ]
  },
  {
   "cell_type": "code",
   "execution_count": 9,
   "metadata": {},
   "outputs": [
    {
     "data": {
      "text/plain": [
       "747"
      ]
     },
     "execution_count": 9,
     "metadata": {},
     "output_type": "execute_result"
    }
   ],
   "source": [
    "datamodel.last_handled_shot"
   ]
  },
  {
   "cell_type": "code",
   "execution_count": null,
   "metadata": {},
   "outputs": [],
   "source": []
  },
  {
   "cell_type": "code",
   "execution_count": null,
   "metadata": {},
   "outputs": [],
   "source": []
  }
 ],
 "metadata": {
  "kernelspec": {
   "display_name": "Python 3",
   "language": "python",
   "name": "python3"
  },
  "language_info": {
   "codemirror_mode": {
    "name": "ipython",
    "version": 3
   },
   "file_extension": ".py",
   "mimetype": "text/x-python",
   "name": "python",
   "nbconvert_exporter": "python",
   "pygments_lexer": "ipython3",
   "version": "3.7.2"
  }
 },
 "nbformat": 4,
 "nbformat_minor": 2
}
