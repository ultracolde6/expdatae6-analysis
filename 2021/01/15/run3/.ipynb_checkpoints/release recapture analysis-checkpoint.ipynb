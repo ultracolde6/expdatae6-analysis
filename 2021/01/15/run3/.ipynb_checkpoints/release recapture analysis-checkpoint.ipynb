{
 "cells": [
  {
   "cell_type": "code",
   "execution_count": 1,
   "metadata": {},
   "outputs": [],
   "source": [
    "import numpy as np\n",
    "from pathlib import Path\n",
    "import matplotlib.pyplot as plt\n",
    "from e6dataflow.datamodel import DataModel\n",
    "from e6dataflow.tools.fittools import e6_fit"
   ]
  },
  {
   "cell_type": "code",
   "execution_count": 2,
   "metadata": {},
   "outputs": [
    {
     "name": "stdout",
     "output_type": "stream",
     "text": [
      "Loading datamodel from Y:\\expdata-e6\\analysis\\2021\\01\\15\\run3\\run3-datamodel.p\n"
     ]
    },
    {
     "ename": "FileNotFoundError",
     "evalue": "[Errno 2] No such file or directory: 'Y:\\\\expdata-e6\\\\analysis\\\\2021\\\\01\\\\15\\\\run3\\\\run3-datamodel.p'",
     "output_type": "error",
     "traceback": [
      "\u001b[1;31m---------------------------------------------------------------------------\u001b[0m",
      "\u001b[1;31mFileNotFoundError\u001b[0m                         Traceback (most recent call last)",
      "\u001b[1;32m<ipython-input-2-8cfb267f1d3d>\u001b[0m in \u001b[0;36m<module>\u001b[1;34m\u001b[0m\n\u001b[1;32m----> 1\u001b[1;33m \u001b[0mdatamodel\u001b[0m \u001b[1;33m=\u001b[0m \u001b[0mDataModel\u001b[0m\u001b[1;33m.\u001b[0m\u001b[0mload_datamodel\u001b[0m\u001b[1;33m(\u001b[0m\u001b[0mPath\u001b[0m\u001b[1;33m(\u001b[0m\u001b[0mPath\u001b[0m\u001b[1;33m.\u001b[0m\u001b[0mcwd\u001b[0m\u001b[1;33m(\u001b[0m\u001b[1;33m)\u001b[0m\u001b[1;33m,\u001b[0m \u001b[1;34m'run3-datamodel.p'\u001b[0m\u001b[1;33m)\u001b[0m\u001b[1;33m)\u001b[0m\u001b[1;33m\u001b[0m\u001b[1;33m\u001b[0m\u001b[0m\n\u001b[0m",
      "\u001b[1;32mc:\\python37-32\\lib\\site-packages\\e6dataflow\\datamodel.py\u001b[0m in \u001b[0;36mload_datamodel\u001b[1;34m(datamodel_path)\u001b[0m\n\u001b[0;32m    164\u001b[0m     \u001b[1;32mdef\u001b[0m \u001b[0mload_datamodel\u001b[0m\u001b[1;33m(\u001b[0m\u001b[0mdatamodel_path\u001b[0m\u001b[1;33m)\u001b[0m\u001b[1;33m:\u001b[0m\u001b[1;33m\u001b[0m\u001b[1;33m\u001b[0m\u001b[0m\n\u001b[0;32m    165\u001b[0m         \u001b[0mprint\u001b[0m\u001b[1;33m(\u001b[0m\u001b[1;34mf'Loading datamodel from {datamodel_path}'\u001b[0m\u001b[1;33m)\u001b[0m\u001b[1;33m\u001b[0m\u001b[1;33m\u001b[0m\u001b[0m\n\u001b[1;32m--> 166\u001b[1;33m         \u001b[0mrebuild_dict\u001b[0m \u001b[1;33m=\u001b[0m \u001b[0mpickle\u001b[0m\u001b[1;33m.\u001b[0m\u001b[0mload\u001b[0m\u001b[1;33m(\u001b[0m\u001b[0mopen\u001b[0m\u001b[1;33m(\u001b[0m\u001b[0mdatamodel_path\u001b[0m\u001b[1;33m,\u001b[0m \u001b[1;34m'rb'\u001b[0m\u001b[1;33m)\u001b[0m\u001b[1;33m)\u001b[0m\u001b[1;33m\u001b[0m\u001b[1;33m\u001b[0m\u001b[0m\n\u001b[0m\u001b[0;32m    167\u001b[0m         \u001b[0mdatamodel\u001b[0m \u001b[1;33m=\u001b[0m \u001b[0mRebuildable\u001b[0m\u001b[1;33m.\u001b[0m\u001b[0mrebuild\u001b[0m\u001b[1;33m(\u001b[0m\u001b[0mrebuild_dict\u001b[0m\u001b[1;33m)\u001b[0m\u001b[1;33m\u001b[0m\u001b[1;33m\u001b[0m\u001b[0m\n\u001b[0;32m    168\u001b[0m         \u001b[1;32mreturn\u001b[0m \u001b[0mdatamodel\u001b[0m\u001b[1;33m\u001b[0m\u001b[1;33m\u001b[0m\u001b[0m\n",
      "\u001b[1;31mFileNotFoundError\u001b[0m: [Errno 2] No such file or directory: 'Y:\\\\expdata-e6\\\\analysis\\\\2021\\\\01\\\\15\\\\run3\\\\run3-datamodel.p'"
     ]
    }
   ],
   "source": [
    "datamodel = DataModel.load_datamodel(Path(Path.cwd(), 'run3-datamodel.p'))"
   ]
  },
  {
   "cell_type": "code",
   "execution_count": null,
   "metadata": {},
   "outputs": [],
   "source": [
    "for datatool in datamodel.datatool_dict.values():\n",
    "    print(f'{datatool.datatool_type}: {datatool.name}')"
   ]
  },
  {
   "cell_type": "code",
   "execution_count": null,
   "metadata": {},
   "outputs": [],
   "source": [
    "num_points = datamodel.num_points\n",
    "num_frames = 3\n",
    "num_tweezers = 10\n",
    "survival_probability_array = np.zeros([num_points, num_frames, num_tweezers])\n",
    "for point_num in range(num_points):\n",
    "    for frame_num in range(num_frames):\n",
    "        frame_key = f'frame-{frame_num:02d}'\n",
    "        for tweezer_num in range(num_tweezers):\n",
    "            tweezer_key = f'tweezer-{tweezer_num:02d}'\n",
    "            datafield_name = f'{frame_key}_{tweezer_key}_counts_verifier'\n",
    "            verified_list = datamodel.get_data_by_point(datafield_name, point_num)\n",
    "            num_above = np.sum(np.array(verified_list))\n",
    "            num_total = len(verified_list)\n",
    "            frac_above = num_above / num_total\n",
    "            survival_probability_array[point_num, frame_num, tweezer_num] = frac_above"
   ]
  },
  {
   "cell_type": "code",
   "execution_count": null,
   "metadata": {},
   "outputs": [],
   "source": [
    "init_prob = np.mean(survival_probability_array[:, 0, :])\n",
    "hold_20_prob = np.mean(survival_probability_array[0, 1, :])\n",
    "hold_40_prob = np.mean(survival_probability_array[1, 1, :])\n",
    "\n",
    "lifetime_data = np.array([init_prob, hold_20_prob, hold_40_prob]) / init_prob\n",
    "t_data = np.array([0, 20, 40])"
   ]
  },
  {
   "cell_type": "code",
   "execution_count": null,
   "metadata": {},
   "outputs": [],
   "source": [
    "def exp_func(t, tau, amplitude):\n",
    "    return amplitude * np.exp(- t / tau)\n",
    "\n",
    "fit_struct = e6_fit(input_data=t_data, output_data=lifetime_data, fit_func=exp_func, param_guess=[20, 0.5],\n",
    "                   param_keys=['tau', 'amplitude'])\n",
    "\n",
    "t_plot_list = np.linspace(0, 45, 100)\n",
    "lifetime_model = exp_func(t_plot_list, **fit_struct['kwargs'])"
   ]
  },
  {
   "cell_type": "code",
   "execution_count": null,
   "metadata": {},
   "outputs": [],
   "source": [
    "tau = fit_struct['tau']['val']\n",
    "fig = plt.figure(figsize=(6, 6))\n",
    "ax  = fig.add_subplot(1, 1, 1)\n",
    "ax.plot(t_data, lifetime_data, '.', markersize=10)\n",
    "ax.plot(t_plot_list, lifetime_model, markersize=10, label=f'$\\\\tau$={tau:.01f} us')\n",
    "ax.grid(True)\n",
    "ax.legend()\n",
    "ax.set_ylim(0, 1.05)\n",
    "ax.set_xlabel('release time (us)')\n",
    "ax.set_ylabel('recapture probability')\n",
    "plt.show()\n"
   ]
  },
  {
   "cell_type": "code",
   "execution_count": null,
   "metadata": {},
   "outputs": [],
   "source": [
    "save_path = Path.cwd()"
   ]
  },
  {
   "cell_type": "code",
   "execution_count": null,
   "metadata": {},
   "outputs": [],
   "source": []
  },
  {
   "cell_type": "code",
   "execution_count": null,
   "metadata": {},
   "outputs": [],
   "source": []
  },
  {
   "cell_type": "code",
   "execution_count": null,
   "metadata": {},
   "outputs": [],
   "source": []
  }
 ],
 "metadata": {
  "kernelspec": {
   "display_name": "Python 3",
   "language": "python",
   "name": "python3"
  },
  "language_info": {
   "codemirror_mode": {
    "name": "ipython",
    "version": 3
   },
   "file_extension": ".py",
   "mimetype": "text/x-python",
   "name": "python",
   "nbconvert_exporter": "python",
   "pygments_lexer": "ipython3",
   "version": "3.7.2"
  }
 },
 "nbformat": 4,
 "nbformat_minor": 2
}
